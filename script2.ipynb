{
 "cells": [
  {
   "cell_type": "markdown",
   "metadata": {},
   "source": [
    "# Informações da tabela"
   ]
  },
  {
   "cell_type": "code",
   "execution_count": null,
   "metadata": {},
   "outputs": [],
   "source": [
    "import pandas as pd\n",
    "import matplotlib.pyplot as plt\n",
    "df = pd.read_csv('C:/Users/lsvieira2/Documents/data_analyst/Online Sales Data.csv')\n",
    "df.info()"
   ]
  },
  {
   "cell_type": "markdown",
   "metadata": {},
   "source": [
    "# Visão geral do dataset\n"
   ]
  },
  {
   "cell_type": "code",
   "execution_count": null,
   "metadata": {},
   "outputs": [],
   "source": [
    "df.head()"
   ]
  },
  {
   "cell_type": "markdown",
   "metadata": {},
   "source": [
    "# Verificando se há algum valor nulo no dataset "
   ]
  },
  {
   "cell_type": "code",
   "execution_count": null,
   "metadata": {},
   "outputs": [],
   "source": [
    "df.isna().sum()"
   ]
  },
  {
   "cell_type": "markdown",
   "metadata": {},
   "source": [
    "# Analisando os dados de forma geral\n"
   ]
  },
  {
   "cell_type": "code",
   "execution_count": null,
   "metadata": {},
   "outputs": [],
   "source": [
    "df.describe()"
   ]
  },
  {
   "cell_type": "markdown",
   "metadata": {},
   "source": [
    "## 1. Categorias de produtos \n",
    "- Quais categorias de produtos têm o maior número de unidades vendidas?"
   ]
  },
  {
   "cell_type": "code",
   "execution_count": null,
   "metadata": {},
   "outputs": [],
   "source": [
    "categoria_unit = df.groupby('Product Category')['Units Sold'].sum()\n",
    "categoria_unit_asc = categoria_unit.sort_values(ascending=False)\n",
    "categoria_unit_df = categoria_unit_asc.reset_index()\n",
    "categoria_unit_df.columns = ['Categoria dos produtos', 'Unidades vendidas por categoria']\n",
    "categoria_unit_df.head(6)"
   ]
  },
  {
   "cell_type": "code",
   "execution_count": null,
   "metadata": {},
   "outputs": [],
   "source": [
    "plt.figure(figsize=(8, 4))  \n",
    "plt.bar(categoria_unit_df['Categoria dos produtos'], categoria_unit_df['Unidades vendidas por categoria'], color='skyblue')  \n",
    "plt.xlabel('Categoria do produto')  \n",
    "plt.ylabel('Total de vendas')  \n",
    "plt.title('Total de Vendas por Categoria de Produto')  \n",
    "plt.xticks(rotation=45, ha='right')  \n",
    "plt.show()  "
   ]
  },
  {
   "cell_type": "markdown",
   "metadata": {},
   "source": [
    "## 1.1 Categorias de produtos \n",
    "\n",
    "- Qual é a receita total gerada por cada categoria de produto?\n"
   ]
  },
  {
   "cell_type": "code",
   "execution_count": null,
   "metadata": {},
   "outputs": [],
   "source": [
    "categoria_preco = df.groupby('Product Category')['Total Revenue'].sum()\n",
    "categoria_preco_asc = categoria_preco.sort_values(ascending=False)\n",
    "categoria_df = categoria_preco_asc.reset_index()\n",
    "categoria_df.columns = ['Categoria dos produtos', 'Total de vendas']\n",
    "categoria_df.head(6)"
   ]
  },
  {
   "cell_type": "code",
   "execution_count": null,
   "metadata": {},
   "outputs": [],
   "source": [
    "plt.figure(figsize=(8, 4))  \n",
    "plt.bar(categoria_df['Categoria dos produtos'], categoria_df['Total de vendas'], color='skyblue')  \n",
    "plt.xlabel('Categoria do produto')  \n",
    "plt.ylabel('Total de vendas')  \n",
    "plt.title('Total de Vendas por Categoria de Produto')  \n",
    "plt.xticks(rotation=45, ha='right')  \n",
    "plt.show()  "
   ]
  },
  {
   "cell_type": "markdown",
   "metadata": {},
   "source": [
    "## 2. Quais são os produtos mais populares?\n",
    "- Qual é a receita total gerada por cada produto?"
   ]
  },
  {
   "cell_type": "code",
   "execution_count": null,
   "metadata": {},
   "outputs": [],
   "source": [
    "produto_preco = df.groupby('Product Name')['Total Revenue'].sum()\n",
    "produto_preco_asc = produto_preco.sort_values(ascending=False)\n",
    "produto_df = produto_preco_asc.reset_index()\n",
    "produto_df.columns = ['Nome do produto', 'Total de vendas']\n",
    "produto_10 = produto_df.head(10)\n",
    "produto_10\n"
   ]
  },
  {
   "cell_type": "code",
   "execution_count": null,
   "metadata": {},
   "outputs": [],
   "source": [
    "plt.figure(figsize=(8, 4))  \n",
    "plt.bar(produto_10['Nome do produto'], produto_10['Total de vendas'], color='skyblue')  \n",
    "plt.xlabel('Categoria do produto')  \n",
    "plt.ylabel('Total de vendas')  \n",
    "plt.title('Total de Vendas por produto')  \n",
    "plt.xticks(rotation=45, ha='right')  \n",
    "plt.show()  "
   ]
  },
  {
   "cell_type": "markdown",
   "metadata": {},
   "source": [
    "## 2.1 Quais são os produtos mais populares?\n",
    "- Quais produtos específicos têm o maior número de unidades vendidas?"
   ]
  },
  {
   "cell_type": "code",
   "execution_count": null,
   "metadata": {},
   "outputs": [],
   "source": [
    "produto_unit = df.groupby('Product Name')['Units Sold'].sum()\n",
    "produto_unit_asc = produto_unit.sort_values(ascending=False)\n",
    "produto_unit_df = produto_unit_asc.reset_index()\n",
    "produto_unit_df.columns = ['Nome do produto', 'Unidades vendidas']\n",
    "produto_unit_10 = produto_unit_df.head(10)\n",
    "produto_unit_10"
   ]
  },
  {
   "cell_type": "code",
   "execution_count": null,
   "metadata": {},
   "outputs": [],
   "source": [
    "plt.figure(figsize=(8, 4))  \n",
    "plt.bar(produto_unit_10['Nome do produto'], produto_unit_10['Unidades vendidas'], color='skyblue')  \n",
    "plt.xlabel('Nome do produto')  \n",
    "plt.ylabel('Unidades vendidas')  \n",
    "plt.title('Total de Vendas por produto')  \n",
    "plt.xticks(rotation=45, ha='right')  \n",
    "plt.show()  "
   ]
  },
  {
   "cell_type": "markdown",
   "metadata": {},
   "source": [
    "## Análise por Região\n",
    "3. **Quais regiões geram mais receita?**\n",
    "   - Qual é a distribuição das vendas por região?\n",
    "   - Há alguma região com desempenho notavelmente melhor ou pior?"
   ]
  },
  {
   "cell_type": "code",
   "execution_count": null,
   "metadata": {},
   "outputs": [],
   "source": [
    "regiao_vendas = df.groupby('Region')['Total Revenue'].sum()\n",
    "regiao_vendas_asc = regiao_vendas.sort_values(ascending=False)\n",
    "regiao_df = regiao_vendas_asc.reset_index()\n",
    "regiao_df.columns = ['Regiao', 'Total de vendas']\n",
    "regiao_df.head()"
   ]
  },
  {
   "cell_type": "code",
   "execution_count": null,
   "metadata": {},
   "outputs": [],
   "source": [
    "plt.figure(figsize=(8, 4))  \n",
    "plt.bar(regiao_df['Regiao'], regiao_df['Total de vendas'], color='skyblue')  \n",
    "plt.xlabel('Categoria do produto')  \n",
    "plt.ylabel('Total de vendas')  \n",
    "plt.title('Total de Vendas por Regiao')  \n",
    "plt.xticks(rotation=45, ha='right')  \n",
    "plt.show()  "
   ]
  },
  {
   "cell_type": "markdown",
   "metadata": {},
   "source": [
    "3.1 **Quais regiões geram mais receita?**\n",
    "   - Há alguma região com desempenho notavelmente melhor ou pior?"
   ]
  },
  {
   "cell_type": "code",
   "execution_count": null,
   "metadata": {},
   "outputs": [],
   "source": [
    "melhor_regiao = regiao_df.loc[regiao_df['Total de vendas'].idxmax()]\n",
    "pior_regiao = regiao_df.loc[regiao_df['Total de vendas'].idxmin()]\n",
    "desempenho_extremos = pd.concat([melhor_regiao.to_frame().T, pior_regiao.to_frame().T], ignore_index=True)\n",
    "desempenho_extremos"
   ]
  },
  {
   "cell_type": "markdown",
   "metadata": {},
   "source": [
    "## Tendências de Vendas ao Longo do Tempo\n",
    "4. **Como as vendas variam ao longo do tempo (diariamente, semanalmente, mensalmente)?**\n",
    "   - Há picos de vendas em determinadas datas ou períodos?"
   ]
  },
  {
   "cell_type": "code",
   "execution_count": null,
   "metadata": {},
   "outputs": [],
   "source": [
    "df['Date'] = pd.to_datetime(df['Date'])"
   ]
  },
  {
   "cell_type": "code",
   "execution_count": null,
   "metadata": {},
   "outputs": [],
   "source": [
    "df['Year'] = df['Date'].dt.year\n",
    "df['Month'] = df['Date'].dt.month\n",
    "df['Day'] = df['Date'].dt.day"
   ]
  },
  {
   "cell_type": "code",
   "execution_count": null,
   "metadata": {},
   "outputs": [],
   "source": [
    "vendas_diarias = df.groupby(df['Date'].dt.date)['Total Revenue'].sum()\n",
    "vendas_diarias"
   ]
  },
  {
   "cell_type": "code",
   "execution_count": 59,
   "metadata": {},
   "outputs": [
    {
     "data": {
      "text/plain": [
       "Date\n",
       "2024-01-01/2024-01-07    5513.83\n",
       "2024-01-08/2024-01-14    4211.83\n",
       "2024-01-15/2024-01-21    2767.84\n",
       "2024-01-22/2024-01-28    1064.87\n",
       "2024-01-29/2024-02-04    1569.81\n",
       "2024-02-05/2024-02-11    5374.86\n",
       "2024-02-12/2024-02-18    2361.86\n",
       "2024-02-19/2024-02-25    1857.84\n",
       "2024-02-26/2024-03-03    2028.80\n",
       "2024-03-04/2024-03-10    2899.84\n",
       "2024-03-11/2024-03-17    3309.86\n",
       "2024-03-18/2024-03-24    1678.83\n",
       "2024-03-25/2024-03-31    3560.86\n",
       "2024-04-01/2024-04-07    2862.87\n",
       "2024-04-08/2024-04-14    5167.84\n",
       "2024-04-15/2024-04-21    1168.36\n",
       "2024-04-22/2024-04-28    1802.65\n",
       "2024-04-29/2024-05-05    1879.87\n",
       "2024-05-06/2024-05-12    3107.74\n",
       "2024-05-13/2024-05-19    2176.59\n",
       "2024-05-20/2024-05-26    1633.34\n",
       "2024-05-27/2024-06-02    1306.87\n",
       "2024-06-03/2024-06-09    1918.86\n",
       "2024-06-10/2024-06-16    1822.83\n",
       "2024-06-17/2024-06-23    1984.38\n",
       "2024-06-24/2024-06-30    1459.53\n",
       "2024-07-01/2024-07-07    1832.86\n",
       "2024-07-08/2024-07-14    1004.82\n",
       "2024-07-15/2024-07-21    1294.89\n",
       "2024-07-22/2024-07-28    1534.94\n",
       "2024-07-29/2024-08-04    3969.53\n",
       "2024-08-05/2024-08-11    1912.87\n",
       "2024-08-12/2024-08-18    1505.51\n",
       "2024-08-19/2024-08-25     904.79\n",
       "2024-08-26/2024-09-01     114.98\n",
       "Freq: W-SUN, Name: Total Revenue, dtype: float64"
      ]
     },
     "execution_count": 59,
     "metadata": {},
     "output_type": "execute_result"
    }
   ],
   "source": [
    "vendas_semanais = df.groupby(df['Date'].dt.to_period('W'))['Total Revenue'].sum()\n",
    "vendas_semanais"
   ]
  },
  {
   "cell_type": "code",
   "execution_count": null,
   "metadata": {},
   "outputs": [],
   "source": [
    "vendas_mensais = df.groupby(df['Date'].dt.to_period('M'))['Total Revenue'].sum()\n",
    "vendas_mensais"
   ]
  },
  {
   "cell_type": "code",
   "execution_count": null,
   "metadata": {},
   "outputs": [],
   "source": [
    "media_diaria = vendas_diarias.mean()\n",
    "media_diaria"
   ]
  },
  {
   "cell_type": "code",
   "execution_count": null,
   "metadata": {},
   "outputs": [],
   "source": [
    "desvio_padrao_vendas_diarias = vendas_diarias.std()\n",
    "desvio_padrao_vendas_diarias"
   ]
  },
  {
   "cell_type": "code",
   "execution_count": null,
   "metadata": {},
   "outputs": [],
   "source": [
    "picos_vendas = vendas_diarias[vendas_diarias > (media_diaria + 2 * desvio_padrao_vendas_diarias)].reset_index()\n",
    "picos_vendas_df = picos_vendas.sort_values(by = 'Total Revenue', ascending=False, ignore_index=True)\n",
    "picos_vendas_df.head(15)"
   ]
  },
  {
   "cell_type": "code",
   "execution_count": 60,
   "metadata": {},
   "outputs": [
    {
     "data": {
      "image/png": "[encoded data removed]",
      "text/plain": [
       "<Figure size 1400x700 with 1 Axes>"
      ]
     },
     "metadata": {},
     "output_type": "display_data"
    }
   ],
   "source": [
    "plt.figure(figsize=(14, 7))\n",
    "vendas_semanais.plot()\n",
    "plt.title('Vendas Mensais')\n",
    "plt.xlabel('Mês')\n",
    "plt.ylabel('Total de Vendas')\n",
    "plt.grid(True)\n",
    "plt.show()"
   ]
  },
  {
   "cell_type": "markdown",
   "metadata": {},
   "source": [
    "## Métodos de Pagamento\n",
    "5. **Qual é a distribuição dos métodos de pagamento utilizados?**\n",
    "   - Há algum método de pagamento que se destaca em termos de frequência ou valor total?"
   ]
  },
  {
   "cell_type": "code",
   "execution_count": null,
   "metadata": {},
   "outputs": [],
   "source": [
    "frequencia_pagamento = df['Payment Method'].value_counts(normalize=True) * 100\n",
    "frequencia_pagamento_df = frequencia_pagamento.reset_index()\n",
    "frequencia_pagamento_df.columns = ['Metodo de pagamento', 'Frequencia (%)']\n",
    "frequencia_pagamento_df"
   ]
  },
  {
   "cell_type": "markdown",
   "metadata": {},
   "source": [
    "5.1 **Há algum método de pagamento que se destaca em termos de frequência ou valor total?**"
   ]
  },
  {
   "cell_type": "code",
   "execution_count": null,
   "metadata": {},
   "outputs": [],
   "source": [
    "valor_total_metodos_pagamento = df.groupby('Payment Method')['Total Revenue'].sum()\n",
    "valor_total_metodos_pagamento_percent = (valor_total_metodos_pagamento / valor_total_metodos_pagamento.sum()) * 100\n",
    "valor_total_metodos_pagamento_df = valor_total_metodos_pagamento_percent.reset_index().sort_values(by = 'Total Revenue', ascending=False, ignore_index=True)\n",
    "valor_total_metodos_pagamento_df.columns = ['Método de Pagamento', 'Valor Total (%)']\n",
    "\n",
    "valor_total_metodos_pagamento_df.head()\n"
   ]
  },
  {
   "cell_type": "markdown",
   "metadata": {},
   "source": [
    "## 6. Desempenho de vendas por transação:\n",
    "- Qual é o valor médio de receita por transação?\n",
    "- Existem transações notavelmente grandes ou pequenas que mereçam atenção?\n"
   ]
  },
  {
   "cell_type": "code",
   "execution_count": null,
   "metadata": {},
   "outputs": [],
   "source": [
    "media_transacao = df['Total Revenue'].mean()\n",
    "media_transacao"
   ]
  },
  {
   "cell_type": "code",
   "execution_count": null,
   "metadata": {},
   "outputs": [],
   "source": [
    "desvio_transacao = df['Total Revenue'].std()\n",
    "desvio_transacao"
   ]
  },
  {
   "cell_type": "code",
   "execution_count": null,
   "metadata": {},
   "outputs": [],
   "source": [
    "limiar_superior =  media_transacao + 2 * desvio_transacao\n",
    "limiar_inferior = media_transacao - 2 * desvio_transacao"
   ]
  },
  {
   "cell_type": "code",
   "execution_count": null,
   "metadata": {},
   "outputs": [],
   "source": [
    "transacao_grande = df[df['Total Revenue'] > limiar_superior]\n",
    "transacao_pequena = df[df['Total Revenue'] < limiar_inferior]\n",
    "transacoes_extremas = pd.concat([transacao_grande])\n",
    "transacoes_extremas.head(30)"
   ]
  },
  {
   "cell_type": "markdown",
   "metadata": {},
   "source": [
    "## 8. Popularidade de diferentes regiões.\n",
    "- Explore a popularidade de diferentes categorias de produtos em todas as regiões.\n"
   ]
  },
  {
   "cell_type": "code",
   "execution_count": null,
   "metadata": {},
   "outputs": [],
   "source": [
    "df_america = df[df['Region'] == 'North America']\n",
    "america_category = df_america.groupby('Product Category')['Total Revenue'].sum().reset_index()\n",
    "america_asc = america_category.sort_values(by= 'Total Revenue', ascending = False)\n",
    "america_asc.head()"
   ]
  },
  {
   "cell_type": "code",
   "execution_count": null,
   "metadata": {},
   "outputs": [],
   "source": [
    "df_asia = df[df['Region'] == 'Asia']\n",
    "asia_category = df_asia.groupby('Product Category')['Total Revenue'].sum().reset_index()\n",
    "asia_asc = asia_category.sort_values(by= 'Total Revenue', ascending = False)\n",
    "asia_asc.head()"
   ]
  },
  {
   "cell_type": "code",
   "execution_count": null,
   "metadata": {},
   "outputs": [],
   "source": [
    "df_europe = df[df['Region'] == 'Asia']\n",
    "europe_category = df_europe.groupby('Product Category')['Total Revenue'].sum().reset_index()\n",
    "europe_asc = europe_category.sort_values(by= 'Total Revenue', ascending = False)\n",
    "europe_asc.head()"
   ]
  },
  {
   "cell_type": "code",
   "execution_count": null,
   "metadata": {},
   "outputs": [],
   "source": [
    "fig, axes = plt.subplots(1, 3, figsize=(18, 8), sharey=True)\n",
    "\n",
    "axes[0].bar(america_asc['Product Category'], america_asc['Total Revenue'], color='skyblue')\n",
    "axes[0].set_xlabel('Nome da categoria')\n",
    "axes[0].set_ylabel('Unidades vendidas')\n",
    "axes[0].set_title('Total de Vendas por categoria da América do Norte')\n",
    "axes[0].tick_params(axis='x', rotation=45, labelright=True)\n",
    "\n",
    "axes[1].bar(asia_asc['Product Category'], asia_asc['Total Revenue'], color='lightgreen')\n",
    "axes[1].set_xlabel('Nome da categoria')\n",
    "axes[1].set_title('Total de Vendas por categoria da Ásia')\n",
    "axes[1].tick_params(axis='x', rotation=45, labelright=True)\n",
    "\n",
    "axes[2].bar(europe_asc['Product Category'], europe_asc['Total Revenue'], color='salmon')\n",
    "axes[2].set_xlabel('Nome da categoria')\n",
    "axes[2].set_title('Total de Vendas por categoria da Europa')\n",
    "axes[2].tick_params(axis='x', rotation=45, labelright=True)\n",
    "\n",
    "plt.tight_layout()\n",
    "plt.show()"
   ]
  },
  {
   "cell_type": "code",
   "execution_count": 67,
   "metadata": {},
   "outputs": [
    {
     "data": {
      "text/html": [
       "<div>\n",
       "<style scoped>\n",
       "    .dataframe tbody tr th:only-of-type {\n",
       "        vertical-align: middle;\n",
       "    }\n",
       "\n",
       "    .dataframe tbody tr th {\n",
       "        vertical-align: top;\n",
       "    }\n",
       "\n",
       "    .dataframe thead th {\n",
       "        text-align: right;\n",
       "    }\n",
       "</style>\n",
       "<table border=\"1\" class=\"dataframe\">\n",
       "  <thead>\n",
       "    <tr style=\"text-align: right;\">\n",
       "      <th></th>\n",
       "      <th>Date</th>\n",
       "      <th>Total Revenue</th>\n",
       "    </tr>\n",
       "  </thead>\n",
       "  <tbody>\n",
       "    <tr>\n",
       "      <th>0</th>\n",
       "      <td>2024-08-19/2024-08-25</td>\n",
       "      <td>351.95</td>\n",
       "    </tr>\n",
       "    <tr>\n",
       "      <th>1</th>\n",
       "      <td>2024-08-12/2024-08-18</td>\n",
       "      <td>249.97</td>\n",
       "    </tr>\n",
       "    <tr>\n",
       "      <th>2</th>\n",
       "      <td>2024-08-05/2024-08-11</td>\n",
       "      <td>225.94</td>\n",
       "    </tr>\n",
       "    <tr>\n",
       "      <th>3</th>\n",
       "      <td>2024-07-29/2024-08-04</td>\n",
       "      <td>3181.96</td>\n",
       "    </tr>\n",
       "    <tr>\n",
       "      <th>4</th>\n",
       "      <td>2024-07-22/2024-07-28</td>\n",
       "      <td>350.96</td>\n",
       "    </tr>\n",
       "    <tr>\n",
       "      <th>5</th>\n",
       "      <td>2024-07-15/2024-07-21</td>\n",
       "      <td>387.98</td>\n",
       "    </tr>\n",
       "    <tr>\n",
       "      <th>6</th>\n",
       "      <td>2024-07-08/2024-07-14</td>\n",
       "      <td>256.94</td>\n",
       "    </tr>\n",
       "    <tr>\n",
       "      <th>7</th>\n",
       "      <td>2024-07-01/2024-07-07</td>\n",
       "      <td>424.98</td>\n",
       "    </tr>\n",
       "    <tr>\n",
       "      <th>8</th>\n",
       "      <td>2024-06-24/2024-06-30</td>\n",
       "      <td>685.96</td>\n",
       "    </tr>\n",
       "    <tr>\n",
       "      <th>9</th>\n",
       "      <td>2024-06-17/2024-06-23</td>\n",
       "      <td>869.94</td>\n",
       "    </tr>\n",
       "    <tr>\n",
       "      <th>10</th>\n",
       "      <td>2024-06-10/2024-06-16</td>\n",
       "      <td>1235.95</td>\n",
       "    </tr>\n",
       "    <tr>\n",
       "      <th>11</th>\n",
       "      <td>2024-06-03/2024-06-09</td>\n",
       "      <td>923.96</td>\n",
       "    </tr>\n",
       "    <tr>\n",
       "      <th>12</th>\n",
       "      <td>2024-05-27/2024-06-02</td>\n",
       "      <td>416.94</td>\n",
       "    </tr>\n",
       "    <tr>\n",
       "      <th>13</th>\n",
       "      <td>2024-05-20/2024-05-26</td>\n",
       "      <td>572.98</td>\n",
       "    </tr>\n",
       "    <tr>\n",
       "      <th>14</th>\n",
       "      <td>2024-05-13/2024-05-19</td>\n",
       "      <td>1529.96</td>\n",
       "    </tr>\n",
       "    <tr>\n",
       "      <th>15</th>\n",
       "      <td>2024-05-06/2024-05-12</td>\n",
       "      <td>1817.96</td>\n",
       "    </tr>\n",
       "    <tr>\n",
       "      <th>16</th>\n",
       "      <td>2024-04-29/2024-05-05</td>\n",
       "      <td>1244.95</td>\n",
       "    </tr>\n",
       "    <tr>\n",
       "      <th>17</th>\n",
       "      <td>2024-04-22/2024-04-28</td>\n",
       "      <td>317.95</td>\n",
       "    </tr>\n",
       "    <tr>\n",
       "      <th>18</th>\n",
       "      <td>2024-04-15/2024-04-21</td>\n",
       "      <td>541.92</td>\n",
       "    </tr>\n",
       "    <tr>\n",
       "      <th>19</th>\n",
       "      <td>2024-04-08/2024-04-14</td>\n",
       "      <td>3925.97</td>\n",
       "    </tr>\n",
       "    <tr>\n",
       "      <th>20</th>\n",
       "      <td>2024-04-01/2024-04-07</td>\n",
       "      <td>944.94</td>\n",
       "    </tr>\n",
       "    <tr>\n",
       "      <th>21</th>\n",
       "      <td>2024-03-25/2024-03-31</td>\n",
       "      <td>355.93</td>\n",
       "    </tr>\n",
       "    <tr>\n",
       "      <th>22</th>\n",
       "      <td>2024-03-18/2024-03-24</td>\n",
       "      <td>538.95</td>\n",
       "    </tr>\n",
       "    <tr>\n",
       "      <th>23</th>\n",
       "      <td>2024-03-11/2024-03-17</td>\n",
       "      <td>1659.95</td>\n",
       "    </tr>\n",
       "    <tr>\n",
       "      <th>24</th>\n",
       "      <td>2024-03-04/2024-03-10</td>\n",
       "      <td>1297.93</td>\n",
       "    </tr>\n",
       "    <tr>\n",
       "      <th>25</th>\n",
       "      <td>2024-02-26/2024-03-03</td>\n",
       "      <td>983.97</td>\n",
       "    </tr>\n",
       "    <tr>\n",
       "      <th>26</th>\n",
       "      <td>2024-02-19/2024-02-25</td>\n",
       "      <td>293.94</td>\n",
       "    </tr>\n",
       "    <tr>\n",
       "      <th>27</th>\n",
       "      <td>2024-02-12/2024-02-18</td>\n",
       "      <td>1589.95</td>\n",
       "    </tr>\n",
       "    <tr>\n",
       "      <th>28</th>\n",
       "      <td>2024-02-05/2024-02-11</td>\n",
       "      <td>1274.94</td>\n",
       "    </tr>\n",
       "    <tr>\n",
       "      <th>29</th>\n",
       "      <td>2024-01-29/2024-02-04</td>\n",
       "      <td>779.94</td>\n",
       "    </tr>\n",
       "    <tr>\n",
       "      <th>30</th>\n",
       "      <td>2024-01-22/2024-01-28</td>\n",
       "      <td>384.94</td>\n",
       "    </tr>\n",
       "    <tr>\n",
       "      <th>31</th>\n",
       "      <td>2024-01-15/2024-01-21</td>\n",
       "      <td>1107.95</td>\n",
       "    </tr>\n",
       "    <tr>\n",
       "      <th>32</th>\n",
       "      <td>2024-01-08/2024-01-14</td>\n",
       "      <td>1551.96</td>\n",
       "    </tr>\n",
       "    <tr>\n",
       "      <th>33</th>\n",
       "      <td>2024-01-01/2024-01-07</td>\n",
       "      <td>4563.93</td>\n",
       "    </tr>\n",
       "  </tbody>\n",
       "</table>\n",
       "</div>"
      ],
      "text/plain": [
       "                     Date  Total Revenue\n",
       "0   2024-08-19/2024-08-25         351.95\n",
       "1   2024-08-12/2024-08-18         249.97\n",
       "2   2024-08-05/2024-08-11         225.94\n",
       "3   2024-07-29/2024-08-04        3181.96\n",
       "4   2024-07-22/2024-07-28         350.96\n",
       "5   2024-07-15/2024-07-21         387.98\n",
       "6   2024-07-08/2024-07-14         256.94\n",
       "7   2024-07-01/2024-07-07         424.98\n",
       "8   2024-06-24/2024-06-30         685.96\n",
       "9   2024-06-17/2024-06-23         869.94\n",
       "10  2024-06-10/2024-06-16        1235.95\n",
       "11  2024-06-03/2024-06-09         923.96\n",
       "12  2024-05-27/2024-06-02         416.94\n",
       "13  2024-05-20/2024-05-26         572.98\n",
       "14  2024-05-13/2024-05-19        1529.96\n",
       "15  2024-05-06/2024-05-12        1817.96\n",
       "16  2024-04-29/2024-05-05        1244.95\n",
       "17  2024-04-22/2024-04-28         317.95\n",
       "18  2024-04-15/2024-04-21         541.92\n",
       "19  2024-04-08/2024-04-14        3925.97\n",
       "20  2024-04-01/2024-04-07         944.94\n",
       "21  2024-03-25/2024-03-31         355.93\n",
       "22  2024-03-18/2024-03-24         538.95\n",
       "23  2024-03-11/2024-03-17        1659.95\n",
       "24  2024-03-04/2024-03-10        1297.93\n",
       "25  2024-02-26/2024-03-03         983.97\n",
       "26  2024-02-19/2024-02-25         293.94\n",
       "27  2024-02-12/2024-02-18        1589.95\n",
       "28  2024-02-05/2024-02-11        1274.94\n",
       "29  2024-01-29/2024-02-04         779.94\n",
       "30  2024-01-22/2024-01-28         384.94\n",
       "31  2024-01-15/2024-01-21        1107.95\n",
       "32  2024-01-08/2024-01-14        1551.96\n",
       "33  2024-01-01/2024-01-07        4563.93"
      ]
     },
     "execution_count": 67,
     "metadata": {},
     "output_type": "execute_result"
    }
   ],
   "source": [
    "df_american = df[df['Region'] == 'North America']\n",
    "america_category_month = df_american.groupby(df['Date'].dt.to_period('W'))['Total Revenue'].sum().reset_index()\n",
    "american_asc = america_category_month.sort_values(by= 'Date', ascending = False).reset_index(drop=True)\n",
    "american_asc"
   ]
  },
  {
   "cell_type": "code",
   "execution_count": 63,
   "metadata": {},
   "outputs": [
    {
     "data": {
      "text/plain": [
       "<Figure size 1400x700 with 0 Axes>"
      ]
     },
     "metadata": {},
     "output_type": "display_data"
    },
    {
     "data": {
      "image/png": "[encoded data removed]",
      "text/plain": [
       "<Figure size 640x480 with 1 Axes>"
      ]
     },
     "metadata": {},
     "output_type": "display_data"
    }
   ],
   "source": [
    "plt.figure(figsize=(14, 7))\n",
    "american_asc.plot()\n",
    "plt.title('Vendas Mensais')\n",
    "plt.xlabel('Mês')\n",
    "plt.ylabel('Total de Vendas')\n",
    "plt.grid(True)\n",
    "plt.show()"
   ]
  }
 ],
 "metadata": {
  "kernelspec": {
   "display_name": "Python 3",
   "language": "python",
   "name": "python3"
  },
  "language_info": {
   "codemirror_mode": {
    "name": "ipython",
    "version": 3
   },
   "file_extension": ".py",
   "mimetype": "text/x-python",
   "name": "python",
   "nbconvert_exporter": "python",
   "pygments_lexer": "ipython3",
   "version": "3.12.4"
  }
 },
 "nbformat": 4,
 "nbformat_minor": 2
}
